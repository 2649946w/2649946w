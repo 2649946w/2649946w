{
 "cells": [
  {
   "cell_type": "markdown",
   "id": "c596de6b-b513-4470-a688-68a54a8a5f5e",
   "metadata": {},
   "source": [
    "2649946W  https://github.com/2649946w/2649946w.git"
   ]
  },
  {
   "cell_type": "markdown",
   "id": "59bd112e",
   "metadata": {},
   "source": [
    "# Generating Chorales With RNN"
   ]
  },
  {
   "cell_type": "markdown",
   "id": "8080f88c",
   "metadata": {},
   "source": [
    "# Getting the Data"
   ]
  },
  {
   "cell_type": "code",
   "execution_count": null,
   "id": "61d3ad52",
   "metadata": {},
   "outputs": [],
   "source": [
    "#Importing the necessary database\n",
    "import tensorflow as tf\n",
    "\n",
    "tf.keras.utils.get_file(\n",
    "    \"jsb_chorales.tgz\",\n",
    "    \"https://github.com/ageron/data/raw/main/jsb_chorales.tgz\",\n",
    "    cache_dir=\".\",\n",
    "    extract=True)\n",
    "#the above function downloads a file named \"jsb_chorales.tgz\" from a GitHub repository and then saves it to the local disk. "
   ]
  },
  {
   "cell_type": "code",
   "execution_count": null,
   "id": "06abc3de",
   "metadata": {},
   "outputs": [],
   "source": [
    "from pathlib import Path\n",
    "#This imports the Path class from the pathlib module in Python. This allows you to work with paths in a far more elegant and efficient way.\n",
    "\n",
    "jsb_chorales_dir = Path(\"datasets/jsb_chorales\")\n",
    "train_files = sorted(jsb_chorales_dir.glob(\"train/chorale_*.csv\"))\n",
    "valid_files = sorted(jsb_chorales_dir.glob(\"valid/chorale_*.csv\"))\n",
    "test_files = sorted(jsb_chorales_dir.glob(\"test/chorale_*.csv\"))\n",
    "#The purpose of this block of code is to organize the files in the JS Bach chorales dataset into training, validation, and test sets."
   ]
  },
  {
   "cell_type": "code",
   "execution_count": null,
   "id": "23de8b24",
   "metadata": {},
   "outputs": [],
   "source": [
    "import pandas as pd\n",
    "#importing the pandas dataset\n",
    "\n",
    "def load_chorales(filepaths):\n",
    "    return [pd.read_csv(filepath).values.tolist() for filepath in filepaths]\n",
    "\n",
    "train_chorales = load_chorales(train_files)\n",
    "valid_chorales = load_chorales(valid_files)\n",
    "test_chorales = load_chorales(test_files)\n",
    "#this block determines which files are training data and which are test data"
   ]
  },
  {
   "cell_type": "markdown",
   "id": "eebca341",
   "metadata": {},
   "source": [
    "# Preparing the Data"
   ]
  },
  {
   "cell_type": "code",
   "execution_count": null,
   "id": "953b8890",
   "metadata": {},
   "outputs": [],
   "source": [
    "notes = set()\n",
    "for chorales in (train_chorales, valid_chorales, test_chorales):\n",
    "    for chorale in chorales:\n",
    "        for chord in chorale:\n",
    "            notes |= set(chord)\n",
    "            #this block defines the notes to the programme, displaying \n",
    "\n",
    "n_notes = len(notes)\n",
    "min_note = min(notes - {0}) #0 denotes no notes being played\n",
    "max_note = max(notes)\n",
    "\n",
    "assert min_note == 36\n",
    "assert max_note == 81"
   ]
  },
  {
   "cell_type": "markdown",
   "id": "05a4f254",
   "metadata": {},
   "source": [
    "### Code for Synthesiser\n",
    "\n",
    "The following cell is code for a synthesiser to play MIDI. Not part of machine learning code to generate Bach, but useful for listening to the results and samples used for training!"
   ]
  },
  {
   "cell_type": "code",
   "execution_count": null,
   "id": "a0bc04ca",
   "metadata": {},
   "outputs": [],
   "source": [
    "from IPython.display import Audio\n",
    "import numpy as np\n",
    "#this allows for audio files to be displayed\n",
    "\n",
    "def notes_to_frequencies(notes):\n",
    "    # Frequency doubles when you go up one octave; there are 12 semi-tones\n",
    "    # per octave; Note A on octave 4 is 440 Hz, and it is note number 69.\n",
    "    return 2 ** ((np.array(notes) - 69) / 12) * 440\n",
    "\n",
    "def frequencies_to_samples(frequencies, tempo, sample_rate):\n",
    "    note_duration = 60 / tempo # the tempo is measured in beats per minutes\n",
    "    # To reduce click sound at every beat, we round the frequencies to try to\n",
    "    # get the samples close to zero at the end of each note.\n",
    "    frequencies = (note_duration * frequencies).round() / note_duration\n",
    "    n_samples = int(note_duration * sample_rate)\n",
    "    time = np.linspace(0, note_duration, n_samples)\n",
    "    sine_waves = np.sin(2 * np.pi * frequencies.reshape(-1, 1) * time)\n",
    "    # Removing all notes with frequencies ≤ 9 Hz (includes note 0 = silence)\n",
    "    sine_waves *= (frequencies > 9.).reshape(-1, 1)\n",
    "    return sine_waves.reshape(-1)\n",
    "\n",
    "def chords_to_samples(chords, tempo, sample_rate):\n",
    "    freqs = notes_to_frequencies(chords)\n",
    "    freqs = np.r_[freqs, freqs[-1:]] # make last note a bit longer\n",
    "    merged = np.mean([frequencies_to_samples(melody, tempo, sample_rate)\n",
    "                     for melody in freqs.T], axis=0)\n",
    "    n_fade_out_samples = sample_rate * 60 // tempo # fade out last note\n",
    "    fade_out = np.linspace(1., 0., n_fade_out_samples)**2\n",
    "    merged[-n_fade_out_samples:] *= fade_out\n",
    "    return merged\n",
    "\n",
    "def play_chords(chords, tempo=160, amplitude=0.1, sample_rate=44100, filepath=None):\n",
    "    samples = amplitude * chords_to_samples(chords, tempo, sample_rate)\n",
    "    if filepath:\n",
    "        from scipy.io import wavfile\n",
    "        samples = (2**15 * samples).astype(np.int16)\n",
    "        wavfile.write(filepath, sample_rate, samples)\n",
    "        return display(Audio(filepath))\n",
    "    else:\n",
    "        return display(Audio(samples, rate=sample_rate))\n",
    "\n",
    "## testing the synthesiser\n",
    "for index in range(3):\n",
    "    play_chords(train_chorales[index])\n"
   ]
  },
  {
   "cell_type": "code",
   "execution_count": null,
   "id": "6eae8c1a-e909-4238-bbaf-bc0f4bd4c58d",
   "metadata": {},
   "outputs": [],
   "source": [
    "from IPython.display import Image\n",
    "Image (\"piano.jpg\")\n",
    "#this is what the above code does:"
   ]
  },
  {
   "cell_type": "code",
   "execution_count": null,
   "id": "8c315b49",
   "metadata": {},
   "outputs": [],
   "source": [
    "import tensorflow as tf\n",
    "\n",
    "def create_target(batch):\n",
    "    X = batch[:, :-1]\n",
    "    Y = batch[:, 1:] # predict next note in each arpegio, at each step\n",
    "    return X, Y\n",
    "\n",
    "def preprocess(window):\n",
    "    window = tf.where(window == 0, window, window - min_note + 1) # shift values\n",
    "    return tf.reshape(window, [-1]) # convert to arpegio\n",
    "\n",
    "def bach_dataset(chorales, batch_size=32, shuffle_buffer_size=None,\n",
    "                 window_size=32, window_shift=16, cache=True):\n",
    "    def batch_window(window):\n",
    "        return window.batch(window_size + 1)\n",
    "\n",
    "    def to_windows(chorale):\n",
    "        dataset = tf.data.Dataset.from_tensor_slices(chorale)\n",
    "        dataset = dataset.window(window_size + 1, window_shift, drop_remainder=True)\n",
    "        return dataset.flat_map(batch_window)\n",
    "\n",
    "    chorales = tf.ragged.constant(chorales, ragged_rank=1)\n",
    "    dataset = tf.data.Dataset.from_tensor_slices(chorales)\n",
    "    dataset = dataset.flat_map(to_windows).map(preprocess)\n",
    "    if cache:\n",
    "        dataset = dataset.cache()\n",
    "    if shuffle_buffer_size:\n",
    "        dataset = dataset.shuffle(shuffle_buffer_size)\n",
    "    dataset = dataset.batch(batch_size)\n",
    "    dataset = dataset.map(create_target)\n",
    "    return dataset.prefetch(1)\n",
    "\n",
    "# this block of code defines the dataset class BachDataset. This takes a collection of J.S. Bach's chorales as input and processes them into a \n",
    "#format suitable for training a neural network. The dataset class includes several parameters that control the preprocessing steps and the size \n",
    "#of the batches returned by the dataset."
   ]
  },
  {
   "cell_type": "code",
   "execution_count": null,
   "id": "49b547f8",
   "metadata": {},
   "outputs": [],
   "source": [
    "train_set = bach_dataset(train_chorales, shuffle_buffer_size=1000)\n",
    "valid_set = bach_dataset(valid_chorales)\n",
    "test_set = bach_dataset(test_chorales)\n",
    "#This sets the sample size for the training data and defines that the training will be a random shuffle. It therefore has a bigger size than the test data\n",
    "#valid_set and test_set have a fixed size based on the number of chorales in the corresponding lists."
   ]
  },
  {
   "cell_type": "markdown",
   "id": "4aa66a40",
   "metadata": {},
   "source": [
    "# Building the Model"
   ]
  },
  {
   "cell_type": "code",
   "execution_count": null,
   "id": "d5b35ac9",
   "metadata": {},
   "outputs": [],
   "source": [
    "n_embedding_dims = 5\n",
    "\n",
    "model = tf.keras.Sequential([\n",
    "    tf.keras.layers.Embedding(input_dim=n_notes, output_dim=n_embedding_dims,\n",
    "                           input_shape=[None]),\n",
    "    tf.keras.layers.Conv1D(32, kernel_size=2, padding=\"causal\", activation=\"relu\"),\n",
    "    tf.keras.layers.BatchNormalization(),\n",
    "    tf.keras.layers.Conv1D(48, kernel_size=2, padding=\"causal\", activation=\"relu\", dilation_rate=2),\n",
    "    tf.keras.layers.BatchNormalization(),\n",
    "    tf.keras.layers.Conv1D(64, kernel_size=2, padding=\"causal\", activation=\"relu\", dilation_rate=4),\n",
    "    tf.keras.layers.BatchNormalization(),\n",
    "    tf.keras.layers.Conv1D(96, kernel_size=2, padding=\"causal\", activation=\"relu\", dilation_rate=8),\n",
    "    tf.keras.layers.BatchNormalization(),\n",
    "    tf.keras.layers.LSTM(256, return_sequences=True),\n",
    "    tf.keras.layers.Dense(n_notes, activation=\"softmax\")\n",
    "])\n",
    "#this is the beautiful bulk of the code. defining and building the model  using the Keras API of TensorFlow.\n",
    "# Specifically, it defines a sequential model consisting of several layers\n",
    "#It intercuts many of the layers with batch normalisation layers that help stabalise and improve the nuerel network by\n",
    "#transforming the input data into a normal distribution with a mean of 0 and a standard deviation of 1"
   ]
  },
  {
   "cell_type": "code",
   "execution_count": null,
   "id": "330c181e",
   "metadata": {},
   "outputs": [],
   "source": [
    "model.summary()"
   ]
  },
  {
   "cell_type": "markdown",
   "id": "d18d5028",
   "metadata": {},
   "source": [
    "# Training the Model"
   ]
  },
  {
   "cell_type": "code",
   "execution_count": null,
   "id": "7682f58a",
   "metadata": {},
   "outputs": [],
   "source": [
    "optimizer = tf.keras.optimizers.Nadam(learning_rate=1e-3)\n",
    "model.compile(loss=\"sparse_categorical_crossentropy\", optimizer=optimizer,\n",
    "              metrics=[\"accuracy\"])\n",
    "model.fit(train_set, epochs=20, validation_data=valid_set)\n",
    "#this is the code that begins the models training process which was defined earlier, think rocky running up the stairs in Rocky 1."
   ]
  },
  {
   "cell_type": "code",
   "execution_count": null,
   "id": "2a86f75b-a131-46a5-95dd-110fd99cc56a",
   "metadata": {},
   "outputs": [],
   "source": [
    "Image (\"lebronmeme.jpg\")\n",
    "#this is how i felt upon seeing how long this would take to load"
   ]
  },
  {
   "cell_type": "code",
   "execution_count": null,
   "id": "02d31268-c827-4e38-877c-2e1c58a370d3",
   "metadata": {},
   "outputs": [],
   "source": [
    "Image (\"rockymeme.jpg\")\n",
    "#meanwhile this is what the code was doing"
   ]
  },
  {
   "cell_type": "markdown",
   "id": "29e9dbdf",
   "metadata": {},
   "source": [
    "# Saving and Evaluating Your Model "
   ]
  },
  {
   "cell_type": "code",
   "execution_count": null,
   "id": "4cea7b1d",
   "metadata": {},
   "outputs": [],
   "source": [
    "model.save(\"my_bach_model\", save_format=\"tf\")\n",
    "model.evaluate(test_set)\n",
    "#these two lines operate different functions but in summary the code saves the trained model to a file named \"my_bach_model\" in the \n",
    "#current working directory and then evaluates the performance of the model on a test set, printing out the accuracy of the model on the test set."
   ]
  },
  {
   "cell_type": "markdown",
   "id": "13f1e7c1",
   "metadata": {},
   "source": [
    "# Generating Chorales"
   ]
  },
  {
   "cell_type": "code",
   "execution_count": null,
   "id": "5a628834",
   "metadata": {},
   "outputs": [],
   "source": [
    "def generate_chorale_v2(model, seed_chords, length, temperature=1):\n",
    "    arpegio = preprocess(tf.constant(seed_chords, dtype=tf.int64))\n",
    "    arpegio = tf.reshape(arpegio, [1, -1])\n",
    "    for chord in range(length):\n",
    "        for note in range(4):\n",
    "            next_note_probas = model.predict(arpegio)[0, -1:]\n",
    "            rescaled_logits = tf.math.log(next_note_probas) / temperature\n",
    "            next_note = tf.random.categorical(rescaled_logits, num_samples=1)\n",
    "            arpegio = tf.concat([arpegio, next_note], axis=1)\n",
    "    arpegio = tf.where(arpegio == 0, arpegio, arpegio + min_note - 1)\n",
    "    return tf.reshape(arpegio, shape=[-1, 4])\n",
    "#This function generates a chorale by iteratively adding notes to a seed chord progression, as defined earlier in the code. \n",
    "#The model predicts the probabilities of the next note given the previous notes, and a random note is selected from these probabilities. \n",
    "#The resulting chorale is a four-part harmony with a specified length."
   ]
  },
  {
   "cell_type": "code",
   "execution_count": null,
   "id": "026e17c0",
   "metadata": {},
   "outputs": [],
   "source": [
    "seed_chords = test_chorales[2][:8]\n",
    "play_chords(seed_chords, amplitude=0.2)\n",
    "#this plays the chorale with the volume at 0.2, it begins at the the root note of C and works up the scale from there \n",
    "#with a short pause inbetween each note"
   ]
  },
  {
   "cell_type": "code",
   "execution_count": null,
   "id": "f0b9f623",
   "metadata": {},
   "outputs": [],
   "source": [
    "new_chorale_v2_cold = generate_chorale_v2(model, seed_chords, 56, temperature=0.8)\n",
    "play_chords(new_chorale_v2_cold, filepath=\"bach_cold.wav\")"
   ]
  },
  {
   "cell_type": "code",
   "execution_count": null,
   "id": "d26bfdfc",
   "metadata": {},
   "outputs": [],
   "source": [
    "new_chorale_v2_medium = generate_chorale_v2(model, seed_chords, 56, temperature=1.0)\n",
    "play_chords(new_chorale_v2_medium, filepath=\"bach_medium.wav\")"
   ]
  },
  {
   "cell_type": "code",
   "execution_count": null,
   "id": "48734911",
   "metadata": {},
   "outputs": [],
   "source": [
    "new_chorale_v2_hot = generate_chorale_v2(model, seed_chords, 56, temperature=1.5)\n",
    "play_chords(new_chorale_v2_hot, filepath=\"bach_hot.wav\")"
   ]
  },
  {
   "cell_type": "markdown",
   "id": "25908586-ce78-4a37-b2a4-1770abeabd94",
   "metadata": {},
   "source": [
    "This code defines a machine learning program that is designed to generate chorales in the style of Johann Sebastian Bach. The program begins by importing the necessary libraries, as all good programmes should. Importantly TensorFlow is imported, which is used to train the machine learning model.\r\n",
    "Next, the code collects a dataset of existing chorales composed by Bach. Following this the data is sorted into training and test data for later on in the programme.\n",
    "\n",
    "Then the sounds of the synthesizer is built, this allows for the machine to translate its predicted note into sound and display the output in a certain way.\n",
    ".\r\n",
    "\r\n",
    "The machine learning model itselfbuiltined using TensorFlowis The mois made up of a  of mtude ofiple la.atAfter building the modelefined, it is trained usi aformentionedncollectionataset of Bach's choraliss. The training process invgiving the machineeedi raw g the inpu mand subsequently odel, adjusting the weights and biases of the model's paramet optomize the model anders to minimize erthis process is then repeated until the machine can accurately produce chorales\n",
    "ales.\r\n",
    "\r\n",
    "After training, the model is evaluated to ensure th in factat it is accurately generating chorales in the style oThis fine-tunes the model allowing for the production of accurate Chorales ccuracy.\r\n",
    "\r\n",
    "Fis e traigenerateso gene three new chorales in the style of Bach. The input data for these chorales is created by randomly selecting a key, tempo, and time signature,using what was learnt in the training stage to produce a piano roll and apply the synthezier to this sound.ouThe result looks like this:yle of Bach."
   ]
  },
  {
   "cell_type": "code",
   "execution_count": null,
   "id": "918080de-031d-4531-9e06-d42ab0ec5fe9",
   "metadata": {},
   "outputs": [],
   "source": [
    "Image (\"finalmeme.jpg\")"
   ]
  },
  {
   "cell_type": "markdown",
   "id": "189a0604-bbd1-4ed5-8384-edf243ddc260",
   "metadata": {},
   "source": [
    "Hugging Chat was used to assist my understanding of the code. I also used the code seen earlier in the course to apply learnt knowledge in my understanding of this project. All of the fantastic memes came from my brain (and google)"
   ]
  },
  {
   "cell_type": "code",
   "execution_count": null,
   "id": "566b7da7-4bef-46ab-a167-145f749d7acd",
   "metadata": {},
   "outputs": [],
   "source": []
  }
 ],
 "metadata": {
  "kernelspec": {
   "display_name": "Python 3 (ipykernel)",
   "language": "python",
   "name": "python3"
  },
  "language_info": {
   "codemirror_mode": {
    "name": "ipython",
    "version": 3
   },
   "file_extension": ".py",
   "mimetype": "text/x-python",
   "name": "python",
   "nbconvert_exporter": "python",
   "pygments_lexer": "ipython3",
   "version": "3.10.13"
  }
 },
 "nbformat": 4,
 "nbformat_minor": 5
}
