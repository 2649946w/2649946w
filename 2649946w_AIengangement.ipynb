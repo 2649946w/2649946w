{
 "cells": [
  {
   "cell_type": "markdown",
   "id": "85d52aae-a27a-456d-8a37-9b0d74804d9f",
   "metadata": {},
   "source": [
    "2649946W https://github.com/2649946w/2649946w.git"
   ]
  },
  {
   "cell_type": "markdown",
   "id": "48e98ec7-d771-469d-a9b2-cb3dd1de7d54",
   "metadata": {},
   "source": [
    "### Task 2: Identifying Bias\n",
    "\n",
    "This week we will make use of one of the [Kaggle](https://www.kaggle.com) tutorials and their associated notebooks to learn how to identify different types of bias. Biases can creep in at any stage of the AI task, from data collection methods, how we split/organise the test set, different algorithms, how the results are interpreted and deployed. Some of these topics have been extensively discussed and as a response, Kaggle has developed a course on AI ethics:\n",
    "\n",
    "- Navigate to the [Kaggle tutorial on Identifying Bias in AI](https://www.kaggle.com/code/alexisbcook/identifying-bias-in-ai/tutorial). \n",
    "- In this section we will explore the [Jigsaw Toxic Comment Classification Challenge](https://www.kaggle.com/datasets/julian3833/jigsaw-toxic-comment-classification-challenge) to discover different types of biases that might emerge in the dataset. \n",
    "\n",
    "#### Task 2-a: Understanding the Scope of Bias\n",
    "\n",
    "Read through the first page of the [Kaggle tutorial on Identifying Bias in AI] to understand the scope of biases discussed at Kaggle.\n",
    "- How many types of biases are described on the page? \n",
    "- Which type of bias did you know about already before this course and which type was new to you? \n",
    "- Can you think of any others? Create a markdown cell below to discuss your thoughts on these questions.\n",
    "\n",
    "Note that the biases discussed in the tutorial are not an exhaustive list. Recall that biases can exist across the entire machine learning pipeline. \n",
    "\n",
    "- Scroll down to the end of the Kaggle tutorial page and click on the link to the exercise to work directly with a model and explore the data.** \n",
    "\n",
    "#### Task 2-b: Run through the tutorial. Take selected screenshorts of your activity while doing the tutorial.\n",
    "\n",
    "- Discuss with your peer group, your findings about the biases in the data, including types of biases. \n",
    "- Demonstrate your discussion with examples and screenshots of your activity on the tutorial. Present these in your own notebook.\n",
    "\n",
    "Modify the markdown cell below to address the Tasks 2-a and 2-b."
   ]
  },
  {
   "cell_type": "markdown",
   "id": "58beed75-bb29-4be1-be6d-c5edf52f9151",
   "metadata": {},
   "source": [
    "2A.\n",
    "\n",
    "There are 6 listed types: Historical, Representational, Measurement, Aggregation, Evaluation and Deployment\n",
    "I knew about representational bias and had heard the others by name but had not learnt the meanings.\n",
    "The only other i can think of is conformation bias.\n",
    "\n",
    "2B.\n",
    "\n",
    "The data being collected from the internet introduces historical bias due to the growth of racism on the internet. It is trained in English toxic words so it has a representational bias\n"
   ]
  },
  {
   "cell_type": "markdown",
   "id": "3e989de9-60b8-41d3-830a-4c5804a42a2e",
   "metadata": {},
   "source": [
    "#### Task 3.1: Initial exploration of words and relationships\n",
    "\n",
    "- Type `apple` and click on `Isolate 101 ppints`. This reduces the noise. Note how juice, fruit, wine are closer together than macintosh, computers and atari. \n",
    "- Try also words like `silver` and `sound`. What are your observations. Does it seem like words related to each other are sitting closer to each other?\n",
    "\n",
    "#### Task 3.2: Exploring \"Word2Vec All\" for patterns\n",
    "\n",
    "- Try to load \"Word2Vec All\" dataset if you can (this may take a while so be patient!) and explore the word `engineer`, `drummer`or any other occupation - what do you find? \n",
    "- Do you think perhaps there are concerns of gender bias? If so, how? If not, why not? Discuss it with our peer group and present the results in a your notebook.\n",
    "- Why not make some screenshots to embed into your notebook along with your comment? This could make it more understandable to a broader audience. \n",
    "- Do not forget to include attribution to the authors of the Projector demo.\n",
    "\n",
    "Modify the markdown cell below to present your thoughts."
   ]
  },
  {
   "cell_type": "markdown",
   "id": "2a0b5b8b-4f25-48fc-9e81-1f970b67d89e",
   "metadata": {},
   "source": [
    "##### 1A.\n",
    "Whilst words that are related to one another do seem to appear close when isolated, when the full picture is in they are then clumped next to other more randum unrelated words\n",
    "##### 2B. \n",
    "Drummer is most closely associated with a nieghbouring profession bassist. It is well-known in musical circles that the bassist and drummer have toremain well in time with one another so the displaying of their relation by Word2Vec is very interesting. Unlike words such as apple which is associated with directly related ideas, drummer is related to its closest member in the band rather than anything to do with drumming itself.\n",
    "The word mother is associated with ideas of birth, life and nurture whereas the word for man is associated with words like 'warrior' so yes there is concern of some form of gender bias."
   ]
  },
  {
   "cell_type": "markdown",
   "id": "40518eb0-9da1-46eb-8a81-e8dfc632472b",
   "metadata": {},
   "source": [
    "### Task 4: Thinking about AI Fairness \n",
    "\n",
    "So we now know that AI models (e.g. large language models) can be biased. We saw that with the embedding projector already. We discussed in the previous exercise about the machine learning pipeline, how the assessment of datasets can be crucicial to deciding the suitability of deploying AI in the real world. This is where data connects to questions of fairness.\n",
    "\n",
    "- Navigate to the [Kaggle Tutorial on AI Fairness](https://www.kaggle.com/code/alexisbcook/ai-fairness). \n",
    "\n",
    "#### Task 4-a: Topics in AI Fairness\n",
    "Read through the page to understand the scope of the fairness criteria discussed at Kaggle. Just as we dicussed with bias, the fairness criteria discussed at Kaggle is not exhaustive. \n",
    "- How many criteria are described on the page? \n",
    "- Which criteria did you know about already before this course and which, if any, was new to you? \n",
    "- Can you think of any other criteria? Create a markdown cell and note down your discussion with your peer group on these questions.\n",
    "\n",
    "#### Task 4-b: AI fairness in the context of the credit card dataset. \n",
    "Scroll down to the end of [the page on AI fairness](https://www.kaggle.com/code/alexisbcook/ai-fairness) to find a link to another interactive exercise to run code in a notebook using credit card application data.\n",
    "- Run the tutorial, while taking selected screenshots.\n",
    "- Discuss your findings with your peer group.\n",
    "- Note down the key points of your activity and discussion in your notebook using the example and screenshots of your activity on the tutorial.\n",
    "\n",
    "\n",
    "Report the results of the activity and discussion by modifying the markdown cell below."
   ]
  },
  {
   "cell_type": "markdown",
   "id": "c85a28e4-581b-4c82-84ef-a66a6551c608",
   "metadata": {},
   "source": [
    "#### 1a.\n",
    "There are 4 types listed: Demographic parity / statistical parity, Equal opportunity, Equal accuracy, Group unaware / \"Fairness through unawareness\"\n",
    "I had known about all of these ideas apart from Group unaware.\n",
    "Within the scope of AI i was unable to think of any other examples\n",
    "#### 2b. \n",
    "The model does not follow equal oppurtunity at the beginning. Applicants from Group A are at an inherent disadvantage due to the group. Due to thisthe model is also not following demographical equality either. As in the first model, it has a bias towards Group B"
   ]
  },
  {
   "cell_type": "markdown",
   "id": "0fbc6460-cac0-4a7a-b815-67e7740edb6b",
   "metadata": {},
   "source": [
    "### Task 5: AI and Explainability\n",
    "\n",
    "In this section we will explore the reasons behind decisions that AI makes. While this is really hard to know, there are some approaches developed to know which features in your data (e.g. median_income in the housing dataset we used before) played a more important role than others in determining how your machine learning model performs. One of the many approaches for assessing feature importance is **permutation importance**.\n",
    "\n",
    "The idea behind permutation importance is simple. Features are what you might consider the columns in a tabulated dataset, such as that might be found in a spreadsheet. \n",
    "- The idea of permutation importance is that a feature is important if the performance of your AI program gets messed up by **shuffling** or **permuting** the order of values in that feature column for the entries in your test data. \n",
    "- The more your AI performance gets messed up in response to the shuffling, the more likely the feature was important for the AI model.\n",
    " \n",
    "To make this idea more concrete, read through the page at the [Tutorial on Permutation Importance](https://www.kaggle.com/code/dansbecker/permutation-importance) at Kaggle. The page describes an example to \"predict a person's height when they become 20 years old, using data that is available at age 10\". \n",
    "\n",
    "The page invites you to work with code to calculate the permutation importance of features for an example in football to predict \"whether a soccer/football team will have the \"Man of the Game\" winner based on the team's statistics\". Scroll down to the end of the page to the section \"Your Turn\" where you will find a link to an exercise to try it yourself to calculate the importance of features in a Taxi Fare Prediction dataset.\n",
    "\n",
    "#### Task 1-a: Carry out the exercise, taking screenshots of the exercise as you make progress. Using screen shots and text in your notebook, answer the following question: \n",
    "1. How many features are in this dataset? \n",
    "2. Were the results of doing the exercise contrary to intuition? If yes, why? If no, why not? \n",
    "3. Discuss your results with your peer group.\n",
    "4. Include your screenshots, text, and discyssions in a markdown cell.\n",
    "\n",
    "#### Task 1-b: Reflecting on Permutation Importance.\n",
    "\n",
    "- Do you think the permutation importance is a reasonable measure of feature importance? \n",
    "- Can you think of any examples where this would have issues? \n",
    "- Discuss these questions in your notebook - describe your example, if you have any, and discuss the issues. "
   ]
  },
  {
   "cell_type": "markdown",
   "id": "c257db92-916d-41af-8042-2abc3bfa2520",
   "metadata": {},
   "source": [
    "##### 1a.\n",
    "5\n",
    "Yes, i did not expect latitudinal distance to be as important as longitudinal.\n",
    "\n",
    "##### 2b. \n",
    "Yes absolutely, it allows for the impact various catagories have on data to be seen obviously. It allows for a scale of priority to be made in creating accurate designs.\n",
    "Yes, in times when there is a plethora of important data to a more complex situation. PI would not work if all of the data was directly neccessary to the final output. \n"
   ]
  },
  {
   "cell_type": "markdown",
   "id": "35e9422c-805f-4b03-b62f-80dc98a346c8",
   "metadata": {},
   "source": [
    "### Task 6: Further Activities for Broader Discussion\n",
    "\n",
    "Apart from the [**Jigsaw Toxic Comment Classification Challenge**](https://www.kaggle.com/datasets/julian3833/jigsaw-toxic-comment-classification-challenge) another challenge you might explore is the [**Inclusive Images Challenge**](https://www.kaggle.com/c/inclusive-images-challenge). Read at least one of the following.\n",
    "\n",
    "- The [announcement of the Inclusive Images Challenge made by Google AI](https://ai.googleblog.com/2018/09/introducing-inclusive-images-competition.html). Explore the [Open Images Dataset V7](https://storage.googleapis.com/openimages/web/index.html) - this is where the Inclusive Images Challenge dataset comes from.\n",
    "- Article summarising [the Inclusive Image Challenge at NeurIPS 2018 conference](https://link.springer.com/chapter/10.1007/978-3-030-29135-8_6)\n",
    "- Explore the [recent controversy](https://www.theverge.com/21298762/face-depixelizer-ai-machine-learning-tool-pulse-stylegan-obama-bias) about bias in relation to [PULSE](https://paperswithcode.com/method/pulse) which, among other things, sharpens blurry images.\n",
    "- Given your exploration in the sections above, what problems might you foresee with [these tasks attempted with the Jigsaw dataset on toxicity](https://link.springer.com/chapter/10.1007/978-981-33-4367-2_81)?\n",
    "\n",
    "There are many concepts (e.g. model cards and datasheets) omitted in discussion above about AI and Ethics. To acquire a foundational knowledge of transparency, accessibility and fairness:\n",
    "\n",
    "- You are welcome to carry out the rest of the [Kaggle course on Intro to AI Ethics](https://www.kaggle.com/learn/intro-to-ai-ethics) to see some ideas from the Kaggle community. \n",
    "- You are welcome to carry out the rest of the [Kaggle tutorial on explainability]( https://www.kaggle.com/learn/machine-learning-explainability) but these are a bit more technical in nature."
   ]
  },
  {
   "cell_type": "markdown",
   "id": "f57f5466-89e1-42dd-b49a-aa8eb24eae0c",
   "metadata": {},
   "source": []
  }
 ],
 "metadata": {
  "kernelspec": {
   "display_name": "Python 3 (ipykernel)",
   "language": "python",
   "name": "python3"
  },
  "language_info": {
   "codemirror_mode": {
    "name": "ipython",
    "version": 3
   },
   "file_extension": ".py",
   "mimetype": "text/x-python",
   "name": "python",
   "nbconvert_exporter": "python",
   "pygments_lexer": "ipython3",
   "version": "3.10.13"
  }
 },
 "nbformat": 4,
 "nbformat_minor": 5
}
