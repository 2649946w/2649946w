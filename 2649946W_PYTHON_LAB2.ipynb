{
 "cells": [
  {
   "cell_type": "markdown",
   "metadata": {},
   "source": [
    "2649946W https://github.com/2649946w/2649946w.git\n",
    "\n",
    "#Week 1: Getting Started with Anaconda, Jupyter, Notebook and Python\n",
    "Why I chose this course?\n",
    "I am passionate in regards to the development of Artificial Intelligence for a positive and ethical cause. I want to enter the Artificial Intelligence Research field.\n",
    "I believe that AI can be implemented in an effective and ethical manner in order to assist positive causes\n",
    "\n",
    "Prior Experience?\n",
    "I have been coding Python since I was 11 and have worked on a variety of programmes from automated bot systems to basic text based video games.\n",
    "\n",
    "What do I expect to learn?\n",
    "- New coding skills related to Artifical Intelligence\n",
    "- Discussions and theory related to the ethics of AI implementation\n",
    "- Artifical Intelligence history\n",
    "- How to work on Artificial Intelligence in a practical manner\n",
    "\n",
    "\n"
   ]
  },
  {
   "cell_type": "code",
   "execution_count": null,
   "metadata": {},
   "outputs": [],
   "source": [
    "print (\"Hello World!\")"
   ]
  },
  {
   "cell_type": "code",
   "execution_count": null,
   "metadata": {},
   "outputs": [],
   "source": [
    "message = (\"Hello Dmis\")\n",
    "print (message)"
   ]
  },
  {
   "cell_type": "code",
   "execution_count": null,
   "metadata": {},
   "outputs": [],
   "source": [
    "print (message + message)"
   ]
  },
  {
   "cell_type": "code",
   "execution_count": null,
   "metadata": {},
   "outputs": [],
   "source": [
    "print (message*3)"
   ]
  },
  {
   "cell_type": "code",
   "execution_count": null,
   "metadata": {},
   "outputs": [],
   "source": [
    "print (message[4])"
   ]
  },
  {
   "cell_type": "code",
   "execution_count": null,
   "metadata": {},
   "outputs": [],
   "source": [
    "#changing the number changes the letter printed corrosponding to their position in the text"
   ]
  },
  {
   "cell_type": "code",
   "execution_count": null,
   "metadata": {},
   "outputs": [],
   "source": [
    "from IPython.display import*\n",
    "YouTubeVideo(\"ADnAzArC1uk\")"
   ]
  },
  {
   "cell_type": "code",
   "execution_count": null,
   "metadata": {
    "scrolled": true
   },
   "outputs": [],
   "source": [
    "import webbrowser\n",
    "import requests\n",
    "#importing the necessary libraries\n",
    "\n",
    "print(\"lets find an old site, shall we?\") #This prints the User Interface\n",
    "site = input(\"Type a Website URL:\") #This defines the variable 'site' and furthers UI\n",
    "era = input(\"Type Year, Month, and Date., e.g. 20160713\")#This defines the variable era and furthers UI\n",
    "url = \"http://archive.org/wayback/available?url=%s&timestamp=%s\" % (site, era) #URL variable defined and proveds the necessary link\n",
    "response = requests.get(url)#allows the programme to load the url \n",
    "data = response.json()#i do not know\n",
    "\n",
    "\n",
    "try:\n",
    "    old_site = data[\"archived_snapshots\"][\"closest\"][\"url\"]#this loads the necessary page\n",
    "    print(\"Found this copy:\", old_site)#printing text for the user and uses the 'old_site' variable\n",
    "    print(\"it should appear in your broswer now.\")#prints the UI\n",
    "    webbrowser.open(old_site)#Opens the web browser\n",
    "except:\n",
    "    print(\"Sorry, could not find the site\")#If the page does not exsist the programme will print this"
   ]
  },
  {
   "cell_type": "code",
   "execution_count": null,
   "metadata": {},
   "outputs": [],
   "source": [
    "#There are 6 Variables\n",
    "#2 libraries were imported"
   ]
  },
  {
   "cell_type": "code",
   "execution_count": null,
   "metadata": {},
   "outputs": [],
   "source": [
    "from IPython.display import Image"
   ]
  },
  {
   "cell_type": "code",
   "execution_count": null,
   "metadata": {},
   "outputs": [],
   "source": [
    "Image (\"picture1.jpg\")"
   ]
  },
  {
   "cell_type": "code",
   "execution_count": null,
   "metadata": {},
   "outputs": [],
   "source": [
    "from IPython.display import Audio\n",
    "Audio(\"audio1.mid\")"
   ]
  },
  {
   "cell_type": "code",
   "execution_count": null,
   "metadata": {},
   "outputs": [],
   "source": [
    "from IPython.display import Audio\n",
    "Audio(\"GoldbergVariations_MehmetOkonsar-1of3_Var1to10.ogg\")"
   ]
  },
  {
   "cell_type": "code",
   "execution_count": null,
   "metadata": {},
   "outputs": [],
   "source": []
  }
 ],
 "metadata": {
  "kernelspec": {
   "display_name": "Python 3 (ipykernel)",
   "language": "python",
   "name": "python3"
  },
  "language_info": {
   "codemirror_mode": {
    "name": "ipython",
    "version": 3
   },
   "file_extension": ".py",
   "mimetype": "text/x-python",
   "name": "python",
   "nbconvert_exporter": "python",
   "pygments_lexer": "ipython3",
   "version": "3.10.13"
  }
 },
 "nbformat": 4,
 "nbformat_minor": 4
}
